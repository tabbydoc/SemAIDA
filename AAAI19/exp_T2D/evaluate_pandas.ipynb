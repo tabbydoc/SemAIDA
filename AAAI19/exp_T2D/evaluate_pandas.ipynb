{
 "cells": [
  {
   "cell_type": "code",
   "execution_count": 1,
   "id": "6a40a95e",
   "metadata": {},
   "outputs": [],
   "source": [
    "import pandas as pd"
   ]
  },
  {
   "cell_type": "code",
   "execution_count": 2,
   "id": "216edcac",
   "metadata": {},
   "outputs": [],
   "source": [
    "predictions_path = \"in_out/predictions/p_cnn_1_3_1.00.csv\"\n",
    "result_path = \"in_out/column_gt_fg.csv\"\n",
    "result_extended_path = \"in_out/column_gt_extend_fg.csv\"\n",
    "\n",
    "df_predictions = pd.read_csv(predictions_path, names=[\"table_id\", \"class\", \"score\"])\n",
    "df_true = pd.read_csv(result_path, names=[\"table_id\", \"class\"])"
   ]
  },
  {
   "cell_type": "code",
   "execution_count": 3,
   "id": "68c26413",
   "metadata": {},
   "outputs": [
    {
     "data": {
      "text/html": [
       "<div>\n",
       "<style scoped>\n",
       "    .dataframe tbody tr th:only-of-type {\n",
       "        vertical-align: middle;\n",
       "    }\n",
       "\n",
       "    .dataframe tbody tr th {\n",
       "        vertical-align: top;\n",
       "    }\n",
       "\n",
       "    .dataframe thead th {\n",
       "        text-align: right;\n",
       "    }\n",
       "</style>\n",
       "<table border=\"1\" class=\"dataframe\">\n",
       "  <thead>\n",
       "    <tr style=\"text-align: right;\">\n",
       "      <th></th>\n",
       "      <th>table_id</th>\n",
       "      <th>class</th>\n",
       "      <th>score</th>\n",
       "    </tr>\n",
       "  </thead>\n",
       "  <tbody>\n",
       "    <tr>\n",
       "      <th>0</th>\n",
       "      <td>10151359_0_8168779773862259178 0</td>\n",
       "      <td>BritishRoyalty</td>\n",
       "      <td>0.92</td>\n",
       "    </tr>\n",
       "    <tr>\n",
       "      <th>1</th>\n",
       "      <td>10151359_0_8168779773862259178 0</td>\n",
       "      <td>Film</td>\n",
       "      <td>0.87</td>\n",
       "    </tr>\n",
       "    <tr>\n",
       "      <th>2</th>\n",
       "      <td>10151359_0_8168779773862259178 0</td>\n",
       "      <td>MusicalWork</td>\n",
       "      <td>0.87</td>\n",
       "    </tr>\n",
       "    <tr>\n",
       "      <th>3</th>\n",
       "      <td>10151359_0_8168779773862259178 0</td>\n",
       "      <td>Work</td>\n",
       "      <td>1.00</td>\n",
       "    </tr>\n",
       "    <tr>\n",
       "      <th>4</th>\n",
       "      <td>10151359_0_8168779773862259178 1</td>\n",
       "      <td>Agent</td>\n",
       "      <td>1.00</td>\n",
       "    </tr>\n",
       "    <tr>\n",
       "      <th>...</th>\n",
       "      <td>...</td>\n",
       "      <td>...</td>\n",
       "      <td>...</td>\n",
       "    </tr>\n",
       "    <tr>\n",
       "      <th>1207</th>\n",
       "      <td>99070098_0_2074872741302696997 1</td>\n",
       "      <td>Eukaryote</td>\n",
       "      <td>0.79</td>\n",
       "    </tr>\n",
       "    <tr>\n",
       "      <th>1208</th>\n",
       "      <td>99070098_0_2074872741302696997 1</td>\n",
       "      <td>MemberOfParliament</td>\n",
       "      <td>1.00</td>\n",
       "    </tr>\n",
       "    <tr>\n",
       "      <th>1209</th>\n",
       "      <td>99070098_0_2074872741302696997 1</td>\n",
       "      <td>Mountain</td>\n",
       "      <td>1.00</td>\n",
       "    </tr>\n",
       "    <tr>\n",
       "      <th>1210</th>\n",
       "      <td>99070098_0_2074872741302696997 1</td>\n",
       "      <td>Organisation</td>\n",
       "      <td>0.80</td>\n",
       "    </tr>\n",
       "    <tr>\n",
       "      <th>1211</th>\n",
       "      <td>99070098_0_2074872741302696997 1</td>\n",
       "      <td>Place</td>\n",
       "      <td>1.00</td>\n",
       "    </tr>\n",
       "  </tbody>\n",
       "</table>\n",
       "<p>1212 rows × 3 columns</p>\n",
       "</div>"
      ],
      "text/plain": [
       "                              table_id               class  score\n",
       "0     10151359_0_8168779773862259178 0      BritishRoyalty   0.92\n",
       "1     10151359_0_8168779773862259178 0                Film   0.87\n",
       "2     10151359_0_8168779773862259178 0         MusicalWork   0.87\n",
       "3     10151359_0_8168779773862259178 0                Work   1.00\n",
       "4     10151359_0_8168779773862259178 1               Agent   1.00\n",
       "...                                ...                 ...    ...\n",
       "1207  99070098_0_2074872741302696997 1           Eukaryote   0.79\n",
       "1208  99070098_0_2074872741302696997 1  MemberOfParliament   1.00\n",
       "1209  99070098_0_2074872741302696997 1            Mountain   1.00\n",
       "1210  99070098_0_2074872741302696997 1        Organisation   0.80\n",
       "1211  99070098_0_2074872741302696997 1               Place   1.00\n",
       "\n",
       "[1212 rows x 3 columns]"
      ]
     },
     "execution_count": 3,
     "metadata": {},
     "output_type": "execute_result"
    }
   ],
   "source": [
    "df_predictions\n"
   ]
  },
  {
   "cell_type": "code",
   "execution_count": 4,
   "id": "0f24d49c",
   "metadata": {},
   "outputs": [
    {
     "data": {
      "text/html": [
       "<div>\n",
       "<style scoped>\n",
       "    .dataframe tbody tr th:only-of-type {\n",
       "        vertical-align: middle;\n",
       "    }\n",
       "\n",
       "    .dataframe tbody tr th {\n",
       "        vertical-align: top;\n",
       "    }\n",
       "\n",
       "    .dataframe thead th {\n",
       "        text-align: right;\n",
       "    }\n",
       "</style>\n",
       "<table border=\"1\" class=\"dataframe\">\n",
       "  <thead>\n",
       "    <tr style=\"text-align: right;\">\n",
       "      <th></th>\n",
       "      <th>table_id</th>\n",
       "      <th>class</th>\n",
       "    </tr>\n",
       "  </thead>\n",
       "  <tbody>\n",
       "    <tr>\n",
       "      <th>0</th>\n",
       "      <td>1438042986423_95_20150728002306-00125-ip-10-23...</td>\n",
       "      <td>PoliticalParty</td>\n",
       "    </tr>\n",
       "    <tr>\n",
       "      <th>1</th>\n",
       "      <td>1438042989018_40_20150728002309-00067-ip-10-23...</td>\n",
       "      <td>Cricketer</td>\n",
       "    </tr>\n",
       "    <tr>\n",
       "      <th>2</th>\n",
       "      <td>1438042989043_35_20150728002309-00287-ip-10-23...</td>\n",
       "      <td>Mountain</td>\n",
       "    </tr>\n",
       "    <tr>\n",
       "      <th>3</th>\n",
       "      <td>68779923_2_1000046510804975562 4</td>\n",
       "      <td>GovernmentType</td>\n",
       "    </tr>\n",
       "    <tr>\n",
       "      <th>4</th>\n",
       "      <td>68779923_2_1000046510804975562 0</td>\n",
       "      <td>Country</td>\n",
       "    </tr>\n",
       "    <tr>\n",
       "      <th>...</th>\n",
       "      <td>...</td>\n",
       "      <td>...</td>\n",
       "    </tr>\n",
       "    <tr>\n",
       "      <th>406</th>\n",
       "      <td>41336118_0_4331895026409635103 0</td>\n",
       "      <td>Company</td>\n",
       "    </tr>\n",
       "    <tr>\n",
       "      <th>407</th>\n",
       "      <td>68779923_0_3859283110041832023 5</td>\n",
       "      <td>Language</td>\n",
       "    </tr>\n",
       "    <tr>\n",
       "      <th>408</th>\n",
       "      <td>68779923_0_3859283110041832023 4</td>\n",
       "      <td>GovernmentType</td>\n",
       "    </tr>\n",
       "    <tr>\n",
       "      <th>409</th>\n",
       "      <td>68779923_0_3859283110041832023 0</td>\n",
       "      <td>Country</td>\n",
       "    </tr>\n",
       "    <tr>\n",
       "      <th>410</th>\n",
       "      <td>68779923_0_3859283110041832023 3</td>\n",
       "      <td>City</td>\n",
       "    </tr>\n",
       "  </tbody>\n",
       "</table>\n",
       "<p>411 rows × 2 columns</p>\n",
       "</div>"
      ],
      "text/plain": [
       "                                              table_id           class\n",
       "0    1438042986423_95_20150728002306-00125-ip-10-23...  PoliticalParty\n",
       "1    1438042989018_40_20150728002309-00067-ip-10-23...       Cricketer\n",
       "2    1438042989043_35_20150728002309-00287-ip-10-23...        Mountain\n",
       "3                     68779923_2_1000046510804975562 4  GovernmentType\n",
       "4                     68779923_2_1000046510804975562 0         Country\n",
       "..                                                 ...             ...\n",
       "406                   41336118_0_4331895026409635103 0         Company\n",
       "407                   68779923_0_3859283110041832023 5        Language\n",
       "408                   68779923_0_3859283110041832023 4  GovernmentType\n",
       "409                   68779923_0_3859283110041832023 0         Country\n",
       "410                   68779923_0_3859283110041832023 3            City\n",
       "\n",
       "[411 rows x 2 columns]"
      ]
     },
     "execution_count": 4,
     "metadata": {},
     "output_type": "execute_result"
    }
   ],
   "source": [
    "df_true"
   ]
  },
  {
   "cell_type": "code",
   "execution_count": 5,
   "id": "7b01a4a0",
   "metadata": {},
   "outputs": [],
   "source": [
    "predictions_classes = df_predictions[\"class\"]\n",
    "true_classes = df_true[\"class\"]\n",
    "\n",
    "intersections = pd.Series(list(set(predictions_classes).intersection(set(true_classes))))"
   ]
  },
  {
   "cell_type": "code",
   "execution_count": 8,
   "id": "e3ac35fe",
   "metadata": {},
   "outputs": [],
   "source": [
    "Precision = intersections.size / predictions_classes.size"
   ]
  },
  {
   "cell_type": "code",
   "execution_count": 9,
   "id": "11ab72ab",
   "metadata": {},
   "outputs": [],
   "source": [
    "Recall = intersections.size / true_classes.size"
   ]
  },
  {
   "cell_type": "code",
   "execution_count": 10,
   "id": "98f2b580",
   "metadata": {},
   "outputs": [],
   "source": [
    "F1 = 2 * Precision * Recall / (Precision + Recall)"
   ]
  },
  {
   "cell_type": "code",
   "execution_count": 16,
   "id": "670aac2e",
   "metadata": {},
   "outputs": [
    {
     "name": "stdout",
     "output_type": "stream",
     "text": [
      "Precision = 0.04\n",
      "Recall = 0.10\n",
      "F1 = 0.05\n"
     ]
    }
   ],
   "source": [
    "print(f'Precision = {Precision:.2f}')\n",
    "print(f'Recall = {Recall:.2f}')\n",
    "print(f'F1 = {F1:.2f}')"
   ]
  },
  {
   "cell_type": "code",
   "execution_count": null,
   "id": "6834856f",
   "metadata": {},
   "outputs": [],
   "source": []
  }
 ],
 "metadata": {
  "kernelspec": {
   "display_name": "Python 3 (ipykernel)",
   "language": "python",
   "name": "python3"
  },
  "language_info": {
   "codemirror_mode": {
    "name": "ipython",
    "version": 3
   },
   "file_extension": ".py",
   "mimetype": "text/x-python",
   "name": "python",
   "nbconvert_exporter": "python",
   "pygments_lexer": "ipython3",
   "version": "3.7.0"
  }
 },
 "nbformat": 4,
 "nbformat_minor": 5
}
